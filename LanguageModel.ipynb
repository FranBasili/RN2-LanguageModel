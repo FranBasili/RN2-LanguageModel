{
  "nbformat": 4,
  "nbformat_minor": 0,
  "metadata": {
    "colab": {
      "provenance": [],
      "collapsed_sections": [
        "b05x4hAFxIxV"
      ],
      "toc_visible": true
    },
    "kernelspec": {
      "name": "python3",
      "display_name": "Python 3"
    },
    "language_info": {
      "name": "python"
    }
  },
  "cells": [
    {
      "cell_type": "markdown",
      "source": [],
      "metadata": {
        "id": "dwaNyCPw82dx"
      }
    },
    {
      "cell_type": "code",
      "source": [
        "# https://www.youtube.com/watch?v=ZMudJXhsUpY&list=PLQY2H8rRoyvzDbLUZkbudP-MFQZwNmU4S&index=6"
      ],
      "metadata": {
        "id": "tpan4WTxFbdb"
      },
      "execution_count": null,
      "outputs": []
    },
    {
      "cell_type": "markdown",
      "source": [
        "# Instalación de librerías e imports"
      ],
      "metadata": {
        "id": "zV8QQzzJDHAB"
      }
    },
    {
      "cell_type": "code",
      "source": [
        "import numpy as np\n",
        "from google.colab import drive\n",
        "import re\n",
        "\n",
        "from gensim.models import KeyedVectors\n",
        "\n",
        "import tensorflow as tf\n",
        "from tensorflow.keras.models import Model\n",
        "from tensorflow.keras.layers import Embedding, Conv1D, MaxPooling1D, GlobalMaxPooling1D, Dropout, Dense\n",
        "from tensorflow.keras.layers import Input, Concatenate, Dot, RepeatVector, TimeDistributed, Multiply\n",
        "from tensorflow.keras.layers import Bidirectional, LSTM, Activation, Reshape, Lambda, Dropout\n",
        "from tensorflow.keras.utils import plot_model, to_categorical, pad_sequences\n",
        "import tensorflow.keras.callbacks as callbacks\n"
      ],
      "metadata": {
        "id": "vWPOTXSLDTF6"
      },
      "execution_count": 1,
      "outputs": []
    },
    {
      "cell_type": "code",
      "source": [
        "drive.mount('/content/drive')"
      ],
      "metadata": {
        "colab": {
          "base_uri": "https://localhost:8080/"
        },
        "id": "iQdSJalqa9IZ",
        "outputId": "44539fbe-248d-4c0d-bbdf-22cd84b4ebae"
      },
      "execution_count": 2,
      "outputs": [
        {
          "output_type": "stream",
          "name": "stdout",
          "text": [
            "Drive already mounted at /content/drive; to attempt to forcibly remount, call drive.mount(\"/content/drive\", force_remount=True).\n"
          ]
        }
      ]
    },
    {
      "cell_type": "markdown",
      "source": [
        "# Preparación de datasets"
      ],
      "metadata": {
        "id": "bvhOz-BpU-az"
      }
    },
    {
      "cell_type": "markdown",
      "source": [
        "## División de txt en arreglo de párrafos"
      ],
      "metadata": {
        "id": "twx-B1mfZdBA"
      }
    },
    {
      "cell_type": "code",
      "source": [
        "filepath= '/content/drive/My Drive/Dr. Jekyll and Mr. Hyde.txt'\n",
        "#filepath= '/content/drive/My Drive/biblia.txt'\n",
        "\n",
        "with open(filepath, 'r') as file:\n",
        "    text = file.read()\n",
        "\n",
        "# Eliminar num. versiculos de biblia\n",
        "#text = re.sub(r'\\[[^\\]]*\\] ', '', text)\n",
        "\n",
        "parrafos = text.lower().split('\\n\\n') # Dividir el contenido en párrafos\n",
        "#parrafos = text.lower().split('.')  # Dividir en oraciones\n",
        "\n",
        "# Eliminamos enters y espacios en blanco.\n",
        "dataset = [parrafo.strip().replace('\\n', ' ') for parrafo in parrafos if parrafo !=\"\"]"
      ],
      "metadata": {
        "id": "LgdqgvhqU-Jr"
      },
      "execution_count": 3,
      "outputs": []
    },
    {
      "cell_type": "markdown",
      "source": [
        "Se decidió dividir el texto en párrafos por lo común que resultaba las abreviaturas \"Mr.\", \"Ms.\", \"St.\" en la literatura anglosajona."
      ],
      "metadata": {
        "id": "ROLavt4BjJjT"
      }
    },
    {
      "cell_type": "code",
      "source": [
        "corpus_size = len(dataset)\n",
        "corpus_size"
      ],
      "metadata": {
        "colab": {
          "base_uri": "https://localhost:8080/"
        },
        "id": "6-q-LYMoay9X",
        "outputId": "03cc01d9-096c-42e2-d23b-01e166048a83"
      },
      "execution_count": 4,
      "outputs": [
        {
          "output_type": "execute_result",
          "data": {
            "text/plain": [
              "349"
            ]
          },
          "metadata": {},
          "execution_count": 4
        }
      ]
    },
    {
      "cell_type": "code",
      "source": [
        "print(dataset[5])"
      ],
      "metadata": {
        "colab": {
          "base_uri": "https://localhost:8080/"
        },
        "id": "Rt4UZubWa2Ym",
        "outputId": "ee6c5f98-a053-48e4-b24b-5acf3acefd55"
      },
      "execution_count": 5,
      "outputs": [
        {
          "output_type": "stream",
          "name": "stdout",
          "text": [
            "mr. enfield and the lawyer were on the other side of the by-street; but when they came abreast of the entry, the former lifted up his cane and pointed.\n"
          ]
        }
      ]
    },
    {
      "cell_type": "code",
      "source": [
        "from sklearn.model_selection import train_test_split\n",
        "trainset, testset, _, _= train_test_split(dataset, range(corpus_size), test_size=0.2, random_state=42, shuffle=True)\n",
        "\n",
        "trainset[0]"
      ],
      "metadata": {
        "colab": {
          "base_uri": "https://localhost:8080/",
          "height": 122
        },
        "id": "Lc1Fr5dPq69W",
        "outputId": "9d2f5d5c-44d4-4749-c6d3-2f5390e47c36"
      },
      "execution_count": 6,
      "outputs": [
        {
          "output_type": "execute_result",
          "data": {
            "text/plain": [
              "'“sir,” said the butler, turning to a sort of mottled pallor, “that thing was not my master, and there’s the truth. my master”—here he looked round him and began to whisper—“is a tall, fine build of a man, and this was more of a dwarf.” utterson attempted to protest. “o, sir,” cried poole, “do you think i do not know my master after twenty years? do you think i do not know where his head comes to in the cabinet door, where i saw him every morning of my life? no, sir, that thing in the mask was never dr. jekyll—god knows what it was, but it was never dr. jekyll; and it is the belief of my heart that there was murder done.”'"
            ],
            "application/vnd.google.colaboratory.intrinsic+json": {
              "type": "string"
            }
          },
          "metadata": {},
          "execution_count": 6
        }
      ]
    },
    {
      "cell_type": "markdown",
      "source": [
        "## Tokenizacion de textos"
      ],
      "metadata": {
        "id": "bOxv_6fQZiZn"
      }
    },
    {
      "cell_type": "code",
      "source": [
        "from keras.preprocessing.text import Tokenizer\n",
        "\n",
        "token=Tokenizer(filters='!\"#$%&()*+,-./:;<=>?@[\\\\]^_`{|}~\\t\\n', lower=True, split=' ', char_level=False, oov_token=\"UNK\", document_count=0)\n",
        "token.fit_on_texts(trainset)\n",
        "\n",
        "dictionary = token.index_word\n",
        "vocab_size=len(dictionary)+1"
      ],
      "metadata": {
        "id": "bGeX7W4wpif-"
      },
      "execution_count": 7,
      "outputs": []
    },
    {
      "cell_type": "code",
      "source": [
        "def genSequences(token, text_set, max_len=500):\n",
        "  x_sequences = []\n",
        "  y_sequences = []\n",
        "\n",
        "  tokenized = token.texts_to_sequences(text_set)  # Tokenizo los textos\n",
        "\n",
        "  # Armo secuencias de largo max_len o menor\n",
        "  for text in tokenized:\n",
        "    for i in range(1, len(text)):\n",
        "      x_sequences.append(text[:i])  # Arreglos de entrada\n",
        "      y_sequences.append(text[i])   # Arreglos de salida\n",
        "\n",
        "  x_sequences = pad_sequences(x_sequences, maxlen=max_len, padding='pre', truncating='pre')\n",
        "  y_sequences = to_categorical(y_sequences, num_classes=len(token.index_word)+1)\n",
        "\n",
        "  return x_sequences, y_sequences"
      ],
      "metadata": {
        "id": "nR1k84B1luXG"
      },
      "execution_count": 8,
      "outputs": []
    },
    {
      "cell_type": "code",
      "source": [
        "max_len=500\n",
        "\n",
        "x_train, y_train = genSequences(token, trainset, max_len=max_len)\n",
        "x_test, y_test = genSequences(token, testset, max_len=max_len)"
      ],
      "metadata": {
        "id": "Du9uYgSPnziB"
      },
      "execution_count": 9,
      "outputs": []
    },
    {
      "cell_type": "code",
      "source": [
        "x_train[78][-200:]"
      ],
      "metadata": {
        "colab": {
          "base_uri": "https://localhost:8080/"
        },
        "id": "CrY2UdoKy0zG",
        "outputId": "092a0425-afb1-44e1-e2bb-e9433afaa2b5"
      },
      "execution_count": 10,
      "outputs": [
        {
          "output_type": "execute_result",
          "data": {
            "text/plain": [
              "array([   0,    0,    0,    0,    0,    0,    0,    0,    0,    0,    0,\n",
              "          0,    0,    0,    0,    0,    0,    0,    0,    0,    0,    0,\n",
              "          0,    0,    0,    0,    0,    0,    0,    0,    0,    0,    0,\n",
              "          0,    0,    0,    0,    0,    0,    0,    0,    0,    0,    0,\n",
              "          0,    0,    0,    0,    0,    0,    0,    0,    0,    0,    0,\n",
              "          0,    0,    0,    0,    0,    0,    0,    0,    0,    0,    0,\n",
              "          0,    0,    0,    0,    0,    0,    0,    0,    0,    0,    0,\n",
              "          0,    0,    0,    0,    0,    0,    0,    0,    0,    0,    0,\n",
              "          0,    0,    0,    0,    0,    0,    0,    0,    0,    0,    0,\n",
              "          0,    0,    0,    0,    0,    0,    0,    0,    0,    0,    0,\n",
              "          0,    0,    0,    0,    0,    0,    0,    0,    0,    0,    0,\n",
              "        651,    9,   24,    2,  282, 1437,    5,    6,  434,    4, 1438,\n",
              "        911,  327,  166,    8,   31,   14,  200,    3,  652,    2,  653,\n",
              "         14, 1439,   11,  119,  516,   32,    3,  127,    5, 1440,    6,\n",
              "        654,  655, 1441,    4,    6,   42,    3,   28,    8,   43,    4,\n",
              "          6, 1442,    9,   29,  912,    5, 1443,  517,   57,    9,  252,\n",
              "         56,  656,   18,  128,    7,   78,   31,   98,   14,  200,  129,\n",
              "        657,  227,   78,   18,  128,    7,   78,   31,   98,  104,   15,\n",
              "        283,  518], dtype=int32)"
            ]
          },
          "metadata": {},
          "execution_count": 10
        }
      ]
    },
    {
      "cell_type": "markdown",
      "source": [
        "# Carga de embeddings (TP viejo)"
      ],
      "metadata": {
        "id": "xh9RknhC19Tn"
      }
    },
    {
      "cell_type": "markdown",
      "source": [
        "Justificar por qué elegimos FastText o pasar a Word2Vect\n",
        "\n",
        "\n",
        "https://radimrehurek.com/gensim/auto_examples/tutorials/run_fasttext.html#sphx-glr-auto-examples-tutorials-run-fasttext-py"
      ],
      "metadata": {
        "id": "uggcGvUd19Tw"
      }
    },
    {
      "cell_type": "code",
      "source": [
        "import codecs\n",
        "\n",
        "embed_path='/content/drive/My Drive/wiki-news-300d-1M.vec'\n",
        "#embed_path='/content/drive/My Drive/cc.es.300.vec'\n",
        "\n",
        "\n",
        "embedding_dim=300               # Dato de FastText\n",
        "embedding_matrix=np.zeros([vocab_size,embedding_dim])\n",
        "\n",
        "#carga de embeddings externos\n",
        "f = codecs.open(embed_path, encoding='utf-8')\n",
        "\n",
        "for line in f:\n",
        "    values = line.rstrip().rsplit(' ')\n",
        "    word = values[0]\n",
        "    coefs = np.asarray(values[1:], dtype='float32')\n",
        "\n",
        "    # Armamos la matriz de embeddings en base a nuestro vocab\n",
        "    if word in token.index_word.values():\n",
        "      idx = next((idx for idx, dict_word in token.index_word.items() if dict_word == word), None)\n",
        "      if idx != None:\n",
        "        embedding_matrix[idx,:] = coefs\n",
        "\n",
        "f.close()"
      ],
      "metadata": {
        "id": "xdaYq4d35VjP"
      },
      "execution_count": 11,
      "outputs": []
    },
    {
      "cell_type": "code",
      "source": [
        "print(\"Tamaño vocabulario: \", vocab_size)\n",
        "print(\"Dim matriz de embeddings: \", embedding_matrix.shape)"
      ],
      "metadata": {
        "colab": {
          "base_uri": "https://localhost:8080/"
        },
        "id": "cBfMO2cFOX0Y",
        "outputId": "f6840237-c2f1-4f1d-d3d3-7e9bd111855a"
      },
      "execution_count": 12,
      "outputs": [
        {
          "output_type": "stream",
          "name": "stdout",
          "text": [
            "Tamaño vocabulario:  3479\n",
            "Dim matriz de embeddings:  (3479, 300)\n"
          ]
        }
      ]
    },
    {
      "cell_type": "markdown",
      "source": [
        "# Modelo"
      ],
      "metadata": {
        "id": "LfGOQXIuOKou"
      }
    },
    {
      "cell_type": "markdown",
      "source": [
        "## Arquitectura"
      ],
      "metadata": {
        "id": "sUqytLUIC8xX"
      }
    },
    {
      "cell_type": "code",
      "source": [
        "def softMaxOverTime(x):\n",
        "    return tf.keras.activations.softmax(x,axis=1)"
      ],
      "metadata": {
        "id": "5rbyTWOsSzHI"
      },
      "execution_count": 13,
      "outputs": []
    },
    {
      "cell_type": "markdown",
      "source": [
        "TODO: Justificar las diferentes etapas de la arquitectura"
      ],
      "metadata": {
        "id": "hrf-gAqfwiW4"
      }
    },
    {
      "cell_type": "code",
      "source": [
        "LSTM_dim=100\n",
        "\n",
        "input_layer = Input(shape=(max_len,))\n",
        "\n",
        "embedding_layer=Embedding(input_dim=vocab_size, output_dim=embedding_dim,\n",
        "                          weights=[embedding_matrix], input_length=max_len,\n",
        "                          trainable=False)(input_layer) # Embeddings pre entrenados\n",
        "\n",
        "# Por que merge mode = sum?\n",
        "lstm_out=Bidirectional(LSTM(LSTM_dim, return_sequences=True, activation=\"tanh\"), merge_mode=\"sum\")(embedding_layer)\n",
        "ulog_attention=Dense(1,activation=\"linear\")(lstm_out)\n",
        "\n",
        "attention=Activation(softMaxOverTime)(ulog_attention)\n",
        "repeated_attention=TimeDistributed(RepeatVector(LSTM_dim))(attention)\n",
        "repeated_attention=Reshape([max_len,LSTM_dim])(repeated_attention)\n",
        "\n",
        "weighted_embeddings=Multiply()([repeated_attention,lstm_out])\n",
        "embedding_sum = Lambda(lambda x: tf.keras.backend.sum(x, axis=1))(weighted_embeddings)\n",
        "\n",
        "dense0=Dense(vocab_size//64, activation='relu')(embedding_sum)\n",
        "dense1=Dense(vocab_size//16, activation='relu')(dense0)\n",
        "dense2=Dense(vocab_size//4, activation='relu')(dense1)\n",
        "dense3=Dense(vocab_size, activation='softmax')(dense2)\n",
        "\n",
        "model=Model(input_layer , dense3)\n",
        "\n",
        "model.summary()"
      ],
      "metadata": {
        "colab": {
          "base_uri": "https://localhost:8080/"
        },
        "id": "HNWSeUv6D76d",
        "outputId": "69222e8f-7a9f-4822-86db-ff0d7977b915"
      },
      "execution_count": 14,
      "outputs": [
        {
          "output_type": "stream",
          "name": "stdout",
          "text": [
            "Model: \"model\"\n",
            "__________________________________________________________________________________________________\n",
            " Layer (type)                Output Shape                 Param #   Connected to                  \n",
            "==================================================================================================\n",
            " input_1 (InputLayer)        [(None, 500)]                0         []                            \n",
            "                                                                                                  \n",
            " embedding (Embedding)       (None, 500, 300)             1043700   ['input_1[0][0]']             \n",
            "                                                                                                  \n",
            " bidirectional (Bidirection  (None, 500, 100)             320800    ['embedding[0][0]']           \n",
            " al)                                                                                              \n",
            "                                                                                                  \n",
            " dense (Dense)               (None, 500, 1)               101       ['bidirectional[0][0]']       \n",
            "                                                                                                  \n",
            " activation (Activation)     (None, 500, 1)               0         ['dense[0][0]']               \n",
            "                                                                                                  \n",
            " time_distributed (TimeDist  (None, 500, 100, 1)          0         ['activation[0][0]']          \n",
            " ributed)                                                                                         \n",
            "                                                                                                  \n",
            " reshape (Reshape)           (None, 500, 100)             0         ['time_distributed[0][0]']    \n",
            "                                                                                                  \n",
            " multiply (Multiply)         (None, 500, 100)             0         ['reshape[0][0]',             \n",
            "                                                                     'bidirectional[0][0]']       \n",
            "                                                                                                  \n",
            " lambda (Lambda)             (None, 100)                  0         ['multiply[0][0]']            \n",
            "                                                                                                  \n",
            " dense_1 (Dense)             (None, 54)                   5454      ['lambda[0][0]']              \n",
            "                                                                                                  \n",
            " dense_2 (Dense)             (None, 217)                  11935     ['dense_1[0][0]']             \n",
            "                                                                                                  \n",
            " dense_3 (Dense)             (None, 869)                  189442    ['dense_2[0][0]']             \n",
            "                                                                                                  \n",
            " dense_4 (Dense)             (None, 3479)                 3026730   ['dense_3[0][0]']             \n",
            "                                                                                                  \n",
            "==================================================================================================\n",
            "Total params: 4598162 (17.54 MB)\n",
            "Trainable params: 3554462 (13.56 MB)\n",
            "Non-trainable params: 1043700 (3.98 MB)\n",
            "__________________________________________________________________________________________________\n"
          ]
        }
      ]
    },
    {
      "cell_type": "code",
      "source": [
        "plot_model(model, \"LM.png\", show_shapes=True)"
      ],
      "metadata": {
        "colab": {
          "base_uri": "https://localhost:8080/",
          "height": 1000
        },
        "id": "9TF74vf5TjmJ",
        "outputId": "9a3ea83b-140b-43ce-bbcf-ae5030faa4ea"
      },
      "execution_count": 15,
      "outputs": [
        {
          "output_type": "execute_result",
          "data": {
            "image/png": "[encoded data removed]",
            "text/plain": [
              "<IPython.core.display.Image object>"
            ]
          },
          "metadata": {},
          "execution_count": 15
        }
      ]
    },
    {
      "cell_type": "code",
      "source": [
        "adam = tf.keras.optimizers.Adam(learning_rate=1e-3, beta_1=0.9, beta_2=0.999, epsilon=1e-08)\n",
        "adam = tf.keras.optimizers.Adam(learning_rate=1e-3)\n",
        "model.compile(loss='categorical_crossentropy', optimizer=adam, metrics=['accuracy'])"
      ],
      "metadata": {
        "id": "ql_wgz45svu8"
      },
      "execution_count": 16,
      "outputs": []
    },
    {
      "cell_type": "markdown",
      "source": [
        "## Entrenamiento"
      ],
      "metadata": {
        "id": "PwlN8WjDOPGZ"
      }
    },
    {
      "cell_type": "code",
      "source": [
        "BATCH_SIZE = 32\n",
        "check_cb = callbacks.ModelCheckpoint(filepath=\"Jeckyll.hdf5\",\n",
        "                                         verbose = 0, save_best_only = True)\n",
        "\n",
        "early_cb = callbacks.EarlyStopping(monitor=\"accuracy\", min_delta=1e-3, patience=10,\n",
        "                                   start_from_epoch=10)"
      ],
      "metadata": {
        "id": "OROEjBk9TpZw"
      },
      "execution_count": 22,
      "outputs": []
    },
    {
      "cell_type": "code",
      "source": [
        "history = model.fit(x_train, y_train, batch_size=BATCH_SIZE, epochs=50,\n",
        "                    callbacks=[check_cb, early_cb])"
      ],
      "metadata": {
        "colab": {
          "base_uri": "https://localhost:8080/"
        },
        "id": "sIkVeCW1KAke",
        "outputId": "e62f84f6-616b-4aca-f334-fc81f77ef2f8"
      },
      "execution_count": 23,
      "outputs": [
        {
          "output_type": "stream",
          "name": "stdout",
          "text": [
            "Epoch 1/50\n",
            "486/486 [==============================] - 26s 53ms/step - loss: 2.3000 - accuracy: 0.3871 - val_loss: 12.9932 - val_accuracy: 0.0789\n",
            "Epoch 2/50\n",
            "486/486 [==============================] - 25s 50ms/step - loss: 2.1044 - accuracy: 0.4287 - val_loss: 13.4672 - val_accuracy: 0.0718\n",
            "Epoch 3/50\n",
            "486/486 [==============================] - 24s 50ms/step - loss: 1.9400 - accuracy: 0.4682 - val_loss: 14.6325 - val_accuracy: 0.0796\n",
            "Epoch 4/50\n",
            "486/486 [==============================] - 24s 50ms/step - loss: 1.7871 - accuracy: 0.4937 - val_loss: 15.1541 - val_accuracy: 0.0759\n",
            "Epoch 5/50\n",
            "486/486 [==============================] - 26s 53ms/step - loss: 1.6756 - accuracy: 0.5192 - val_loss: 15.6446 - val_accuracy: 0.0679\n",
            "Epoch 6/50\n",
            "486/486 [==============================] - 26s 53ms/step - loss: 1.5564 - accuracy: 0.5478 - val_loss: 16.5657 - val_accuracy: 0.0729\n",
            "Epoch 7/50\n",
            "486/486 [==============================] - 26s 53ms/step - loss: 1.4301 - accuracy: 0.5803 - val_loss: 17.0393 - val_accuracy: 0.0705\n",
            "Epoch 8/50\n",
            "486/486 [==============================] - 24s 50ms/step - loss: 1.3522 - accuracy: 0.5979 - val_loss: 17.8788 - val_accuracy: 0.0717\n",
            "Epoch 9/50\n",
            "486/486 [==============================] - 25s 52ms/step - loss: 1.2430 - accuracy: 0.6303 - val_loss: 18.6373 - val_accuracy: 0.0677\n",
            "Epoch 10/50\n",
            "486/486 [==============================] - 25s 52ms/step - loss: 1.1360 - accuracy: 0.6609 - val_loss: 19.0687 - val_accuracy: 0.0729\n",
            "Epoch 11/50\n",
            "486/486 [==============================] - 26s 53ms/step - loss: 1.0734 - accuracy: 0.6710 - val_loss: 19.7202 - val_accuracy: 0.0671\n",
            "Epoch 12/50\n",
            "486/486 [==============================] - 24s 50ms/step - loss: 0.9911 - accuracy: 0.6948 - val_loss: 20.1619 - val_accuracy: 0.0660\n",
            "Epoch 13/50\n",
            "486/486 [==============================] - 25s 52ms/step - loss: 0.9398 - accuracy: 0.7123 - val_loss: 20.8648 - val_accuracy: 0.0634\n",
            "Epoch 14/50\n",
            "486/486 [==============================] - 25s 52ms/step - loss: 0.8569 - accuracy: 0.7345 - val_loss: 21.7747 - val_accuracy: 0.0740\n",
            "Epoch 15/50\n",
            "486/486 [==============================] - 25s 52ms/step - loss: 0.8121 - accuracy: 0.7437 - val_loss: 21.5454 - val_accuracy: 0.0675\n",
            "Epoch 16/50\n",
            "486/486 [==============================] - 26s 53ms/step - loss: 0.7428 - accuracy: 0.7699 - val_loss: 22.7849 - val_accuracy: 0.0675\n",
            "Epoch 17/50\n",
            "486/486 [==============================] - 25s 50ms/step - loss: 0.6891 - accuracy: 0.7841 - val_loss: 23.2719 - val_accuracy: 0.0649\n",
            "Epoch 18/50\n",
            "486/486 [==============================] - 26s 53ms/step - loss: 0.6594 - accuracy: 0.7923 - val_loss: 23.4961 - val_accuracy: 0.0647\n",
            "Epoch 19/50\n",
            "486/486 [==============================] - 27s 55ms/step - loss: 0.6271 - accuracy: 0.8048 - val_loss: 23.8407 - val_accuracy: 0.0682\n",
            "Epoch 20/50\n",
            "486/486 [==============================] - 26s 53ms/step - loss: 0.5994 - accuracy: 0.8115 - val_loss: 24.7108 - val_accuracy: 0.0655\n",
            "Epoch 21/50\n",
            "486/486 [==============================] - 24s 50ms/step - loss: 0.5075 - accuracy: 0.8404 - val_loss: 25.4460 - val_accuracy: 0.0574\n",
            "Epoch 22/50\n",
            "486/486 [==============================] - 26s 53ms/step - loss: 0.5007 - accuracy: 0.8383 - val_loss: 25.8450 - val_accuracy: 0.0653\n",
            "Epoch 23/50\n",
            "486/486 [==============================] - 26s 53ms/step - loss: 0.5104 - accuracy: 0.8388 - val_loss: 26.6045 - val_accuracy: 0.0618\n",
            "Epoch 24/50\n",
            "486/486 [==============================] - 25s 51ms/step - loss: 0.4402 - accuracy: 0.8624 - val_loss: 26.8122 - val_accuracy: 0.0664\n",
            "Epoch 25/50\n",
            "486/486 [==============================] - 25s 51ms/step - loss: 0.4407 - accuracy: 0.8650 - val_loss: 27.1072 - val_accuracy: 0.0644\n",
            "Epoch 26/50\n",
            "486/486 [==============================] - 24s 50ms/step - loss: 0.4193 - accuracy: 0.8669 - val_loss: 27.5968 - val_accuracy: 0.0633\n",
            "Epoch 27/50\n",
            "486/486 [==============================] - 26s 54ms/step - loss: 0.3532 - accuracy: 0.8918 - val_loss: 28.6635 - val_accuracy: 0.0647\n",
            "Epoch 28/50\n",
            "486/486 [==============================] - 25s 51ms/step - loss: 0.3731 - accuracy: 0.8861 - val_loss: 28.0824 - val_accuracy: 0.0623\n",
            "Epoch 29/50\n",
            "486/486 [==============================] - 26s 54ms/step - loss: 0.3746 - accuracy: 0.8837 - val_loss: 27.4262 - val_accuracy: 0.0653\n",
            "Epoch 30/50\n",
            "486/486 [==============================] - 27s 56ms/step - loss: 0.3501 - accuracy: 0.8936 - val_loss: 28.3990 - val_accuracy: 0.0644\n",
            "Epoch 31/50\n",
            "486/486 [==============================] - 25s 51ms/step - loss: 0.3489 - accuracy: 0.8958 - val_loss: 29.0081 - val_accuracy: 0.0641\n",
            "Epoch 32/50\n",
            "486/486 [==============================] - 26s 54ms/step - loss: 0.3003 - accuracy: 0.9051 - val_loss: 29.4823 - val_accuracy: 0.0598\n",
            "Epoch 33/50\n",
            "486/486 [==============================] - 26s 54ms/step - loss: 0.3168 - accuracy: 0.9038 - val_loss: 29.9029 - val_accuracy: 0.0664\n",
            "Epoch 34/50\n",
            "486/486 [==============================] - 25s 51ms/step - loss: 0.3302 - accuracy: 0.9008 - val_loss: 29.4875 - val_accuracy: 0.0642\n",
            "Epoch 35/50\n",
            "486/486 [==============================] - 26s 54ms/step - loss: 0.2877 - accuracy: 0.9109 - val_loss: 30.8232 - val_accuracy: 0.0672\n",
            "Epoch 36/50\n",
            "486/486 [==============================] - 25s 52ms/step - loss: 0.3035 - accuracy: 0.9076 - val_loss: 30.3108 - val_accuracy: 0.0653\n",
            "Epoch 37/50\n",
            "486/486 [==============================] - 25s 51ms/step - loss: 0.2956 - accuracy: 0.9094 - val_loss: 31.0653 - val_accuracy: 0.0639\n",
            "Epoch 38/50\n",
            "486/486 [==============================] - 26s 54ms/step - loss: 0.2620 - accuracy: 0.9196 - val_loss: 30.7779 - val_accuracy: 0.0628\n",
            "Epoch 39/50\n",
            "486/486 [==============================] - 26s 54ms/step - loss: 0.2576 - accuracy: 0.9215 - val_loss: 31.3761 - val_accuracy: 0.0609\n",
            "Epoch 40/50\n",
            "486/486 [==============================] - 26s 54ms/step - loss: 0.2344 - accuracy: 0.9283 - val_loss: 31.9643 - val_accuracy: 0.0587\n",
            "Epoch 41/50\n",
            "486/486 [==============================] - 26s 54ms/step - loss: 0.2483 - accuracy: 0.9231 - val_loss: 31.7023 - val_accuracy: 0.0634\n",
            "Epoch 42/50\n",
            "486/486 [==============================] - 26s 54ms/step - loss: 0.2771 - accuracy: 0.9164 - val_loss: 31.9184 - val_accuracy: 0.0688\n",
            "Epoch 43/50\n",
            "486/486 [==============================] - 25s 51ms/step - loss: 0.2298 - accuracy: 0.9324 - val_loss: 31.5387 - val_accuracy: 0.0641\n",
            "Epoch 44/50\n",
            "486/486 [==============================] - 26s 54ms/step - loss: 0.2211 - accuracy: 0.9330 - val_loss: 32.6611 - val_accuracy: 0.0615\n",
            "Epoch 45/50\n",
            "486/486 [==============================] - 25s 50ms/step - loss: 0.2851 - accuracy: 0.9148 - val_loss: 31.0805 - val_accuracy: 0.0672\n",
            "Epoch 46/50\n",
            "486/486 [==============================] - 24s 50ms/step - loss: 0.2583 - accuracy: 0.9240 - val_loss: 31.4003 - val_accuracy: 0.0658\n",
            "Epoch 47/50\n",
            "486/486 [==============================] - 26s 54ms/step - loss: 0.1673 - accuracy: 0.9510 - val_loss: 33.0591 - val_accuracy: 0.0601\n",
            "Epoch 48/50\n",
            "486/486 [==============================] - 24s 50ms/step - loss: 0.2433 - accuracy: 0.9317 - val_loss: 32.4043 - val_accuracy: 0.0645\n",
            "Epoch 49/50\n",
            "486/486 [==============================] - 24s 50ms/step - loss: 0.2170 - accuracy: 0.9346 - val_loss: 32.9283 - val_accuracy: 0.0649\n",
            "Epoch 50/50\n",
            "486/486 [==============================] - 26s 53ms/step - loss: 0.2341 - accuracy: 0.9279 - val_loss: 32.8262 - val_accuracy: 0.0620\n"
          ]
        }
      ]
    },
    {
      "cell_type": "markdown",
      "source": [
        "## Carga de pesos ya entrenados"
      ],
      "metadata": {
        "id": "NIjNX5EEyfvd"
      }
    },
    {
      "cell_type": "code",
      "source": [
        "# Loads the weights\n",
        "model.load_weights(\"Jeckyll.hdf5\")"
      ],
      "metadata": {
        "id": "b2vrEEgPyjtU"
      },
      "execution_count": null,
      "outputs": []
    },
    {
      "cell_type": "markdown",
      "source": [
        "## Testeo"
      ],
      "metadata": {
        "id": "qs592p2rdZ-u"
      }
    },
    {
      "cell_type": "code",
      "source": [
        "test_loss, test_acc = model.evaluate(x_test,  y_test)\n",
        "print(test_acc)"
      ],
      "metadata": {
        "colab": {
          "base_uri": "https://localhost:8080/"
        },
        "id": "oYYh5qoAdbal",
        "outputId": "f85b59a8-10a5-49b1-900a-81ed070d9424"
      },
      "execution_count": 24,
      "outputs": [
        {
          "output_type": "stream",
          "name": "stdout",
          "text": [
            "198/198 [==============================] - 4s 21ms/step - loss: 32.8262 - accuracy: 0.0620\n",
            "0.06200569495558739\n"
          ]
        }
      ]
    },
    {
      "cell_type": "markdown",
      "source": [
        "# Prediccion"
      ],
      "metadata": {
        "id": "KAmkhoBVagBH"
      }
    },
    {
      "cell_type": "code",
      "source": [
        "def idx2word(token, pred_idx):\n",
        "  for idx, word in token.index_word.items():\n",
        "      if idx == pred_idx:\n",
        "        return word\n",
        "\n",
        "  return None"
      ],
      "metadata": {
        "id": "B2KHlSAh7mME"
      },
      "execution_count": 2,
      "outputs": []
    },
    {
      "cell_type": "markdown",
      "source": [
        "## Greedy Search + ArgMax"
      ],
      "metadata": {
        "id": "R-03GN754HZu"
      }
    },
    {
      "cell_type": "code",
      "source": [
        "def greedy(seed_phrase, token, model, pred_len=25, max_len=500):\n",
        "  seed_text = seed_phrase\n",
        "  pred_arr = \"\"\n",
        "  for _ in range(pred_len):\n",
        "    tokenized = token.texts_to_sequences([seed_text])[0]\n",
        "    tokenized = pad_sequences([tokenized], maxlen=max_len)\n",
        "    pred_idx = np.argmax(model.predict(tokenized, verbose=0)[0])\n",
        "\n",
        "    word = idx2word(token, pred_idx)\n",
        "    if word != None:\n",
        "      seed_text += \" \" + word\n",
        "      pred_arr += \" \" + word\n",
        "\n",
        "  return pred_arr"
      ],
      "metadata": {
        "id": "OQQbtzFhalhj"
      },
      "execution_count": 78,
      "outputs": []
    },
    {
      "cell_type": "code",
      "source": [
        "seed= \"Jekyll said\"\n",
        "prediction = greedy(seed, token, model, pred_len=25)\n",
        "print(seed, prediction)"
      ],
      "metadata": {
        "colab": {
          "base_uri": "https://localhost:8080/"
        },
        "id": "OnzhwhPBnfiY",
        "outputId": "e3d4da16-0234-4914-b21f-2fece54f9017"
      },
      "execution_count": 74,
      "outputs": [
        {
          "output_type": "stream",
          "name": "stdout",
          "text": [
            "Jekyll said  to the servant now in silence and then with mr utterson had a feverish long fender this hall and that the could he drew the\n"
          ]
        }
      ]
    },
    {
      "cell_type": "code",
      "source": [
        "prediction = \"\"\n",
        "\n",
        "while(True):\n",
        "  seed=input(\"Seed:\")\n",
        "  if seed != \"\":\n",
        "    prediction = greedy(seed, token, model)\n",
        "  else:\n",
        "    prediction = greedy(prediction, token, model)\n",
        "  print(prediction)"
      ],
      "metadata": {
        "colab": {
          "base_uri": "https://localhost:8080/",
          "height": 633
        },
        "id": "R5uxBYTIa2KD",
        "outputId": "4e1ea7cc-98d7-4daf-d09e-8d7fb3f1da2b"
      },
      "execution_count": 77,
      "outputs": [
        {
          "output_type": "stream",
          "name": "stdout",
          "text": [
            "Seed:jekyll\n",
            " ” said the lawyer “i once spoke with him ”\n",
            "Seed:\n",
            " said he “i “i have a god figure that it\n",
            "Seed:\n",
            " was always now ten i would it not mr i\n",
            "Seed:\n",
            " bind my master and even my master’s hand before i\n",
            "Seed:\n",
            " could ask you to help you to ask you to\n",
            "Seed:\n",
            " ask you to ask you to ask you to ask\n",
            "Seed:\n",
            " you to ask you to ask you to ask you\n"
          ]
        },
        {
          "output_type": "error",
          "ename": "KeyboardInterrupt",
          "evalue": "ignored",
          "traceback": [
            "\u001b[0;31m---------------------------------------------------------------------------\u001b[0m",
            "\u001b[0;31mKeyboardInterrupt\u001b[0m                         Traceback (most recent call last)",
            "\u001b[0;32m<ipython-input-77-bc764b0d368b>\u001b[0m in \u001b[0;36m<cell line: 3>\u001b[0;34m()\u001b[0m\n\u001b[1;32m      2\u001b[0m \u001b[0;34m\u001b[0m\u001b[0m\n\u001b[1;32m      3\u001b[0m \u001b[0;32mwhile\u001b[0m\u001b[0;34m(\u001b[0m\u001b[0;32mTrue\u001b[0m\u001b[0;34m)\u001b[0m\u001b[0;34m:\u001b[0m\u001b[0;34m\u001b[0m\u001b[0;34m\u001b[0m\u001b[0m\n\u001b[0;32m----> 4\u001b[0;31m   \u001b[0mseed\u001b[0m\u001b[0;34m=\u001b[0m\u001b[0minput\u001b[0m\u001b[0;34m(\u001b[0m\u001b[0;34m\"Seed:\"\u001b[0m\u001b[0;34m)\u001b[0m\u001b[0;34m\u001b[0m\u001b[0;34m\u001b[0m\u001b[0m\n\u001b[0m\u001b[1;32m      5\u001b[0m   \u001b[0;32mif\u001b[0m \u001b[0mseed\u001b[0m \u001b[0;34m!=\u001b[0m \u001b[0;34m\"\"\u001b[0m\u001b[0;34m:\u001b[0m\u001b[0;34m\u001b[0m\u001b[0;34m\u001b[0m\u001b[0m\n\u001b[1;32m      6\u001b[0m     \u001b[0mprediction\u001b[0m \u001b[0;34m=\u001b[0m \u001b[0mmodel_predict\u001b[0m\u001b[0;34m(\u001b[0m\u001b[0mseed\u001b[0m\u001b[0;34m,\u001b[0m \u001b[0mtoken\u001b[0m\u001b[0;34m,\u001b[0m \u001b[0mmodel\u001b[0m\u001b[0;34m)\u001b[0m\u001b[0;34m\u001b[0m\u001b[0;34m\u001b[0m\u001b[0m\n",
            "\u001b[0;32m/usr/local/lib/python3.10/dist-packages/ipykernel/kernelbase.py\u001b[0m in \u001b[0;36mraw_input\u001b[0;34m(self, prompt)\u001b[0m\n\u001b[1;32m    849\u001b[0m                 \u001b[0;34m\"raw_input was called, but this frontend does not support input requests.\"\u001b[0m\u001b[0;34m\u001b[0m\u001b[0;34m\u001b[0m\u001b[0m\n\u001b[1;32m    850\u001b[0m             )\n\u001b[0;32m--> 851\u001b[0;31m         return self._input_request(str(prompt),\n\u001b[0m\u001b[1;32m    852\u001b[0m             \u001b[0mself\u001b[0m\u001b[0;34m.\u001b[0m\u001b[0m_parent_ident\u001b[0m\u001b[0;34m,\u001b[0m\u001b[0;34m\u001b[0m\u001b[0;34m\u001b[0m\u001b[0m\n\u001b[1;32m    853\u001b[0m             \u001b[0mself\u001b[0m\u001b[0;34m.\u001b[0m\u001b[0m_parent_header\u001b[0m\u001b[0;34m,\u001b[0m\u001b[0;34m\u001b[0m\u001b[0;34m\u001b[0m\u001b[0m\n",
            "\u001b[0;32m/usr/local/lib/python3.10/dist-packages/ipykernel/kernelbase.py\u001b[0m in \u001b[0;36m_input_request\u001b[0;34m(self, prompt, ident, parent, password)\u001b[0m\n\u001b[1;32m    893\u001b[0m             \u001b[0;32mexcept\u001b[0m \u001b[0mKeyboardInterrupt\u001b[0m\u001b[0;34m:\u001b[0m\u001b[0;34m\u001b[0m\u001b[0;34m\u001b[0m\u001b[0m\n\u001b[1;32m    894\u001b[0m                 \u001b[0;31m# re-raise KeyboardInterrupt, to truncate traceback\u001b[0m\u001b[0;34m\u001b[0m\u001b[0;34m\u001b[0m\u001b[0m\n\u001b[0;32m--> 895\u001b[0;31m                 \u001b[0;32mraise\u001b[0m \u001b[0mKeyboardInterrupt\u001b[0m\u001b[0;34m(\u001b[0m\u001b[0;34m\"Interrupted by user\"\u001b[0m\u001b[0;34m)\u001b[0m \u001b[0;32mfrom\u001b[0m \u001b[0;32mNone\u001b[0m\u001b[0;34m\u001b[0m\u001b[0;34m\u001b[0m\u001b[0m\n\u001b[0m\u001b[1;32m    896\u001b[0m             \u001b[0;32mexcept\u001b[0m \u001b[0mException\u001b[0m \u001b[0;32mas\u001b[0m \u001b[0me\u001b[0m\u001b[0;34m:\u001b[0m\u001b[0;34m\u001b[0m\u001b[0;34m\u001b[0m\u001b[0m\n\u001b[1;32m    897\u001b[0m                 \u001b[0mself\u001b[0m\u001b[0;34m.\u001b[0m\u001b[0mlog\u001b[0m\u001b[0;34m.\u001b[0m\u001b[0mwarning\u001b[0m\u001b[0;34m(\u001b[0m\u001b[0;34m\"Invalid Message:\"\u001b[0m\u001b[0;34m,\u001b[0m \u001b[0mexc_info\u001b[0m\u001b[0;34m=\u001b[0m\u001b[0;32mTrue\u001b[0m\u001b[0;34m)\u001b[0m\u001b[0;34m\u001b[0m\u001b[0;34m\u001b[0m\u001b[0m\n",
            "\u001b[0;31mKeyboardInterrupt\u001b[0m: Interrupted by user"
          ]
        }
      ]
    },
    {
      "cell_type": "markdown",
      "source": [
        "## Greedy Search + Temperatura"
      ],
      "metadata": {
        "id": "0-rI0LdE660g"
      }
    },
    {
      "cell_type": "code",
      "source": [
        "import random\n",
        "\n",
        "def greedyTemp(seed_phrase, token, model, temp=1, pred_len=25, max_len=500):\n",
        "  seed_text = seed_phrase\n",
        "  pred_arr = \"\"\n",
        "  for _ in range(pred_len):\n",
        "\n",
        "    # Tokenizamos y paddeamos\n",
        "    tokenized = token.texts_to_sequences([seed_text])[0]\n",
        "    tokenized = pad_sequences([tokenized], maxlen=max_len)\n",
        "\n",
        "    # Predecimos considerando temperatura y elegimos de forma semialeatoria\n",
        "    probs = (model.predict(tokenized, verbose=0)[0])**(1/temp)\n",
        "    pred_idx = random.choices(range(len(probs)), weights=probs, k=1)\n",
        "\n",
        "    word = idx2word(token, pred_idx)\n",
        "    if word != None:\n",
        "      seed_text += \" \" + word\n",
        "      pred_arr += \" \" + word\n",
        "\n",
        "  return pred_arr"
      ],
      "metadata": {
        "id": "O3rbgBVz7BkK"
      },
      "execution_count": null,
      "outputs": []
    },
    {
      "cell_type": "markdown",
      "source": [
        "## Stochastic Beam Search"
      ],
      "metadata": {
        "id": "11MtxLu44aV0"
      }
    },
    {
      "cell_type": "code",
      "source": [
        "import numpy as np\n",
        "\n",
        "def stochastic_beam_search(modelo, texto_inicial, n_beam=3, max_pasos=20, temperatura=1.0):\n",
        "    secuencias = [{'texto': texto_inicial, 'probabilidad': 1.0}]\n",
        "\n",
        "    for paso in range(max_pasos):\n",
        "        nuevas_secuencias = []\n",
        "\n",
        "        for secuencia in secuencias:\n",
        "            texto_actual = secuencia['texto']\n",
        "            probabilidad_acumulada = secuencia['probabilidad']\n",
        "\n",
        "            probabilidades = predecir_probabilidades(texto_actual)\n",
        "\n",
        "            # Aplica temperatura para controlar la aleatoriedad\n",
        "            probabilidades_ajustadas = {palabra: p ** (1.0 / temperatura) for palabra, p in probabilidades.items()}\n",
        "\n",
        "            palabras_candidatas = list(probabilidades_ajustadas.keys())\n",
        "            probabilidades_candidatas = list(probabilidades_ajustadas.values())\n",
        "\n",
        "            palabra_elegida = np.random.choice(palabras_candidatas, p=probabilidades_candidatas)\n",
        "\n",
        "            probabilidad_elegida = probabilidades[palabra_elegida]\n",
        "            probabilidad_acumulada *= probabilidad_elegida\n",
        "\n",
        "            nuevo_texto = texto_actual + ' ' + palabra_elegida\n",
        "\n",
        "            nuevas_secuencias.append({'texto': nuevo_texto, 'probabilidad': probabilidad_acumulada})\n",
        "\n",
        "        nuevas_secuencias.sort(key=lambda x: -x['probabilidad'])\n",
        "        secuencias = nuevas_secuencias[:n_beam]\n",
        "\n",
        "    mejor_secuencia = secuencias[0]\n",
        "    return mejor_secuencia['texto']\n",
        "\n",
        "# Uso de Stochastic Beam Search con temperatura\n",
        "texto_generado = stochastic_beam_search(modelo_de_lenguaje, 'El', n_beam=5, max_pasos=10, temperatura=0.7)\n",
        "print(\"Texto generado:\", texto_generado)\n"
      ],
      "metadata": {
        "id": "nbWSO_rd5TUr"
      },
      "execution_count": null,
      "outputs": []
    },
    {
      "cell_type": "code",
      "source": [
        "def stochasticBeam()"
      ],
      "metadata": {
        "id": "9MCgn2Tt4gDf"
      },
      "execution_count": null,
      "outputs": []
    },
    {
      "cell_type": "markdown",
      "source": [
        "# Metricas de generación"
      ],
      "metadata": {
        "id": "cLH7P4lAaig1"
      }
    },
    {
      "cell_type": "markdown",
      "source": [
        "## Introducción\n",
        "\n",
        "Métricas de Calidad del Texto:\n",
        "\n",
        "* **Perplejidad**: La perplejidad mide cuán bien un modelo de lenguaje puede predecir una secuencia de palabras en función de su entrenamiento. Cuanto más bajo sea el valor de perplejidad, mejor es la calidad del texto, ya que indica que el modelo puede predecir con precisión las palabras siguientes en la secuencia. Se utiliza en la evaluación de modelos de lenguaje para evaluar la calidad de la generación de texto\n",
        "\n",
        "* **BLEU** (Bilingual Evaluation Understudy): es una métrica comúnmente utilizada para evaluar la calidad de la traducción automática y la generación de texto. Compara la similitud de n-gramas (secuencias de palabras) generados por el modelo con las secuencias de palabras de referencia. Cuanto más cercanos sean los n-gramas generados a las referencias, mayor será el puntaje BLEU. Muy utilizado en la evaluación automática de sistemas de traducción automática y generación de resúmenes, entre otros\n",
        "\n",
        "* **ROUGE** (Recall-Oriented Understudy for Gisting Evaluation): se enfoca en medir la similitud entre palabras y frases del texto generado y las de referencia. Puede incluir métricas como ROUGE-1 (unigramas), ROUGE-2 (bigramas), y ROUGE-L (la longitud de la secuencia común más larga). Se utiliza en la evaluación de resúmenes automáticos y generación de texto. Cuanto más alto sea el puntaje ROUGE, mejor será la calidad del texto generado."
      ],
      "metadata": {
        "id": "4jN1AB-Vdcnf"
      }
    },
    {
      "cell_type": "markdown",
      "source": [
        "## Perplejidad"
      ],
      "metadata": {
        "id": "HYwSfNEZsF_l"
      }
    },
    {
      "cell_type": "code",
      "source": [
        "import nltk\n",
        "from nltk.lm import MLE\n",
        "from nltk.util import ngrams\n",
        "import math\n",
        "\n",
        "# Texto de entrenamiento\n",
        "training_text = \"Este es un ejemplo de texto de entrenamiento para calcular la perplejidad.\"\n",
        "\n",
        "# Tokeniza el texto de entrenamiento\n",
        "tokens = nltk.word_tokenize(training_text)\n",
        "\n",
        "# Crea un modelo de lenguaje de máxima probabilidad (MLE)\n",
        "n = 3  # Orden del modelo de lenguaje (trigramas en este caso)\n",
        "lm = MLE(n)\n",
        "lm.fit([ngrams(tokens, n)])\n",
        "\n",
        "# Texto de prueba\n",
        "test_text = \"Este es un ejemplo de texto de prueba para calcular la perplejidad.\"\n",
        "\n",
        "# Tokeniza el texto de prueba\n",
        "test_tokens = nltk.word_tokenize(test_text)\n",
        "\n",
        "# Calcula la perplejidad del texto de prueba\n",
        "perplexity = math.pow(2, -lm.perplexity(test_tokens))\n",
        "print(\"Perplejidad:\", perplexity)"
      ],
      "metadata": {
        "id": "sqLP0d7ddbI-"
      },
      "execution_count": null,
      "outputs": []
    },
    {
      "cell_type": "code",
      "source": [
        "import tensorflow as tf\n",
        "\n",
        "# Supongamos que ya tienes un modelo de lenguaje previamente entrenado en TensorFlow\n",
        "\n",
        "# Definir una función para calcular la probabilidad de una secuencia de palabras\n",
        "def calcular_probabilidad(modelo, secuencia):\n",
        "    # Supongamos que `modelo` es una instancia de tu modelo de lenguaje en TensorFlow\n",
        "    # `secuencia` es una lista de índices de palabras\n",
        "\n",
        "    # Calcular la probabilidad logarítmica de la secuencia\n",
        "    log_probabilidad = modelo(secuencia)\n",
        "\n",
        "    # Calcular la perplejidad\n",
        "    perplejidad = tf.exp(-log_probabilidad)\n",
        "\n",
        "    return perplejidad\n",
        "\n",
        "# Texto de prueba (secuencia de índices de palabras)\n",
        "texto_de_prueba = [10, 20, 30, 40, 50]  # Reemplaza con tu propia secuencia\n",
        "\n",
        "# Calcula la perplejidad\n",
        "perplejidad = calcular_probabilidad(modelo_de_lenguaje, texto_de_prueba)\n",
        "\n",
        "print(\"Perplejidad:\", perplejidad)\n"
      ],
      "metadata": {
        "id": "Gri8jMfO3quD"
      },
      "execution_count": null,
      "outputs": []
    },
    {
      "cell_type": "markdown",
      "source": [
        "## BLEU"
      ],
      "metadata": {
        "id": "2-Hb-pVDsIU1"
      }
    },
    {
      "cell_type": "code",
      "source": [
        "import nltk\n",
        "from nltk.translate.bleu_score import sentence_bleu\n",
        "\n",
        "blue_calc = lambda ref, pred: sentence_bleu(ref, pred)"
      ],
      "metadata": {
        "id": "PWLdCMPkz1gx"
      },
      "execution_count": 1,
      "outputs": []
    },
    {
      "cell_type": "markdown",
      "source": [
        "# Carga de embeddings (GPT)"
      ],
      "metadata": {
        "id": "b05x4hAFxIxV"
      }
    },
    {
      "cell_type": "markdown",
      "source": [
        "Justificar por qué elegimos FastText o pasar a Word2Vect\n",
        "\n",
        "\n",
        "https://radimrehurek.com/gensim/auto_examples/tutorials/run_fasttext.html#sphx-glr-auto-examples-tutorials-run-fasttext-py"
      ],
      "metadata": {
        "id": "2bUVEe4kxIxd"
      }
    },
    {
      "cell_type": "code",
      "source": [
        "word_vectors = KeyedVectors.load_word2vec_format('/content/drive/My Drive/wiki-news-300d-1M.vec') #ingles\n",
        "#word_vectors = KeyedVectors.load_word2vec_format('/content/drive/My Drive/cc.es.300.vec')        #español"
      ],
      "metadata": {
        "id": "iEwWJMKGxIxd"
      },
      "execution_count": null,
      "outputs": []
    },
    {
      "cell_type": "code",
      "source": [
        "# Variables auxiliares\n",
        "vocab_size = len(word_vectors.index_to_key)\n",
        "embedding_dim = word_vectors.vector_size"
      ],
      "metadata": {
        "id": "vKQRmJnoxIxd"
      },
      "execution_count": null,
      "outputs": []
    },
    {
      "cell_type": "code",
      "source": [
        "# Carga de coeficientes del embedding\n",
        "embedding_matrix = np.zeros((vocab_size, embedding_dim))\n",
        "\n",
        "for i in range(vocab_size):\n",
        "    embedding_vector = word_vectors[word_vectors.index_to_key[i]]\n",
        "    if embedding_vector is not None:\n",
        "        embedding_matrix[i] = embedding_vector"
      ],
      "metadata": {
        "id": "6Ps3t523xIxe"
      },
      "execution_count": null,
      "outputs": []
    },
    {
      "cell_type": "code",
      "source": [
        "embedding_matrix.shape"
      ],
      "metadata": {
        "colab": {
          "base_uri": "https://localhost:8080/"
        },
        "outputId": "1905e32b-2264-41d7-bbc1-3843d34851ad",
        "id": "GhxUx4f3xIxe"
      },
      "execution_count": null,
      "outputs": [
        {
          "output_type": "execute_result",
          "data": {
            "text/plain": [
              "(999994, 300)"
            ]
          },
          "metadata": {},
          "execution_count": 14
        }
      ]
    },
    {
      "cell_type": "markdown",
      "source": [
        "Justificar por qué elegimos FastText o pasar a Word2Vect\n",
        "\n",
        "\n",
        "https://radimrehurek.com/gensim/auto_examples/tutorials/run_fasttext.html#sphx-glr-auto-examples-tutorials-run-fasttext-py"
      ],
      "metadata": {
        "id": "-EJjLr2VxIxe"
      }
    },
    {
      "cell_type": "code",
      "source": [
        "import codecs\n",
        "\n",
        "embedding_dim=300               # Dato de FastText\n",
        "embedding_matrix=np.zeros([vocab_size,embedding_dim])\n",
        "\n",
        "#carga de embeddings externos\n",
        "f = codecs.open('/content/drive/My Drive/wiki-news-300d-1M.vec', encoding='utf-8')\n",
        "\n",
        "for line in f:\n",
        "    values = line.rstrip().rsplit(' ')\n",
        "    word = values[0]\n",
        "    coefs = np.asarray(values[1:], dtype='float32')\n",
        "\n",
        "    # Armamos la matriz de embeddings en base a nuestro vocab\n",
        "    if word in token.index_word.values():\n",
        "      idx = next((idx for idx, dict_word in token.index_word.items() if dict_word == word), None)\n",
        "      if idx != None:\n",
        "        embedding_matrix[idx,:] = coefs\n",
        "\n",
        "f.close()"
      ],
      "metadata": {
        "id": "uKQZedMExIxf"
      },
      "execution_count": null,
      "outputs": []
    },
    {
      "cell_type": "code",
      "source": [
        "print(\"Tamaño vocabulario: \", vocab_size)\n",
        "print(\"Dim matriz de embeddings: \", embedding_matrix.shape)"
      ],
      "metadata": {
        "colab": {
          "base_uri": "https://localhost:8080/"
        },
        "outputId": "f6840237-c2f1-4f1d-d3d3-7e9bd111855a",
        "id": "xqQePSYqxIxf"
      },
      "execution_count": null,
      "outputs": [
        {
          "output_type": "stream",
          "name": "stdout",
          "text": [
            "Tamaño vocabulario:  3479\n",
            "Dim matriz de embeddings:  (3479, 300)\n"
          ]
        }
      ]
    }
  ]
}